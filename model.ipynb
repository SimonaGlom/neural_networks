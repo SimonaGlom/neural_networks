{
 "cells": [
  {
   "cell_type": "code",
   "execution_count": null,
   "metadata": {
    "collapsed": true
   },
   "outputs": [],
   "source": [
    "import panda as pd"
   ]
  },
  {
   "cell_type": "markdown",
   "metadata": {},
   "source": [
    "# Klasifikácia zvieracích zvukov \n",
    "\n",
    "__ČASŤ MODEL__\n",
    "\n",
    "__Autori__: Simona Glombíková, Dominik Jurečko\n",
    "\n",
    "## Získanie dát\n",
    "Dáta sú získavané zo súboru AnimalSound.csv. nachádzajú sa tu dvas stĺpce - *classname* a *src*.\n",
    "Po načítaní dát je dôležité ich ešte upraviť na spracovateľný formát. "
   ]
  },
  {
   "cell_type": "code",
   "execution_count": null,
   "metadata": {
    "pycharm": {
     "name": "#%%\n"
    }
   },
   "outputs": [],
   "source": [
    "data = pd.read_csv('src/data/AnimalSound.csv')\n",
    "print(data)"
   ]
  },
  {
   "cell_type": "markdown",
   "metadata": {
    "pycharm": {
     "name": "#%% md\n"
    }
   },
   "source": [
    " ## Formát dát\n",
    " \n",
    " Formát dát potrebný na trénovanie je ukázaný v časti dataset. Ako vstup do modelu\n",
    " prichádzajú dvojrozmerné polia, ktoré predstavujú vyčíslené mfcc spektogramy.\n",
    " Takto spracované daáta eŠte rozdelíme na trénovací a testovací dataset. \n",
    " "
   ]
  },
  {
   "cell_type": "code",
   "execution_count": null,
   "metadata": {
    "pycharm": {
     "name": "#%%\n"
    }
   },
   "outputs": [],
   "source": [
    "%load_ext tensorboard\n",
    "%tensorboard --logdir logs --bind_all"
   ]
  },
  {
   "cell_type": "markdown",
   "metadata": {},
   "source": [
    "## Model\n",
    "\n",
    "Navrhnutý model má takúto štruktúru, už po prvých pokusoch trénovania sme zistili, že bude potrebná\n",
    "iterácia a zlepšenie modelu. Tento model sme vybrali z podobných prác, ktoré sme predstavovali v prvom odovzdaní. "
   ]
  },
  {
   "cell_type": "code",
   "execution_count": null,
   "metadata": {
    "pycharm": {
     "name": "#%%\n"
    }
   },
   "outputs": [],
   "source": [
    "class SoundAnimalDetector(keras.Model):\n",
    "    def __init__(self, dim_output):\n",
    "        super(SoundAnimalDetector, self).__init__()\n",
    "\n",
    "        self.model_layers = [\n",
    "            keras.layers.Conv2D(\n",
    "                filters=1,\n",
    "                kernel_size=3,\n",
    "                padding='same',\n",
    "                activation='relu'),\n",
    "            keras.layers.MaxPooling2D(pool_size=(2, 2)),\n",
    "\n",
    "            keras.layers.Conv2D(\n",
    "                filters=32,\n",
    "                kernel_size=3,\n",
    "                padding='same',\n",
    "                activation='relu'),\n",
    "            keras.layers.MaxPooling2D(pool_size=(2, 2)),\n",
    "\n",
    "            keras.layers.Conv2D(\n",
    "                filters=64,\n",
    "                kernel_size=3,\n",
    "                padding='same',\n",
    "                activation='relu'),\n",
    "            keras.layers.MaxPooling2D(pool_size=(2, 2)),\n",
    "\n",
    "            keras.layers.Flatten(),\n",
    "\n",
    "            keras.layers.Dense(\n",
    "                units=512,\n",
    "                activation='relu'),\n",
    "\n",
    "            keras.layers.Dense(\n",
    "                units=dim_output,\n",
    "                activation='softmax')\n",
    "        ]\n",
    "\n",
    "    def call(self, x):\n",
    "        for layer in self.model_layers:\n",
    "            x = layer(x)\n",
    "            return x\n"
   ]
  },
  {
   "cell_type": "markdown",
   "metadata": {
    "pycharm": {
     "name": "#%% md\n"
    }
   },
   "source": [
    "## Trénovanie modelu\n",
    "\n",
    "Trénovanie modelu na klasifikáciu zvierat do druhov je zobrazené na kóde nižšie."
   ]
  },
  {
   "cell_type": "code",
   "execution_count": null,
   "metadata": {
    "pycharm": {
     "name": "#%%\n"
    }
   },
   "outputs": [],
   "source": [
    "import tensorflow.keras as keras\n",
    "import os\n",
    "import datetime\n",
    "\n",
    "model = SoundAnimalDetector(dim_output=len(x_train))\n",
    "\n",
    "model.compile(\n",
    "    optimizer='adam',\n",
    "    loss='binary_crossentropy',\n",
    "    metrics=['accuracy']\n",
    ")\n",
    "\n",
    "model.fit(x_train,\n",
    "          y_train,\n",
    "          batch_size=num_batch_size,\n",
    "          epochs=num_epochs,\n",
    "          validation_data=(x_test, y_test),\n",
    "          callbacks=[keras.callbacks.TensorBoard(\n",
    "                  log_dir=os.path.join('logs', datetime.datetime.now().strftime(\"%Y%m%d-%H%M%S\")),\n",
    "                  histogram_freq=1,\n",
    "                  profile_batch=0\n",
    "          )],\n",
    "           verbose=1)\n",
    "              \n",
    "model.summary()"
   ]
  }
 ],
 "metadata": {
  "kernelspec": {
   "display_name": "Python 3",
   "language": "python",
   "name": "python3"
  },
  "language_info": {
   "codemirror_mode": {
    "name": "ipython",
    "version": 3
   },
   "file_extension": ".py",
   "mimetype": "text/x-python",
   "name": "python",
   "nbconvert_exporter": "python",
   "pygments_lexer": "ipython3",
   "version": "3.6.8"
  },
  "pycharm": {
   "stem_cell": {
    "cell_type": "raw",
    "metadata": {
     "collapsed": false
    },
    "source": []
   }
  }
 },
 "nbformat": 4,
 "nbformat_minor": 1
}
